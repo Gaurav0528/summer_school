{
  "cells": [
    {
      "cell_type": "markdown",
      "metadata": {
        "id": "view-in-github",
        "colab_type": "text"
      },
      "source": [
        "<a href=\"https://colab.research.google.com/github/Gaurav0528/summer_school/blob/main/1_GridSearchCV.ipynb\" target=\"_parent\"><img src=\"https://colab.research.google.com/assets/colab-badge.svg\" alt=\"Open In Colab\"/></a>"
      ]
    },
    {
      "cell_type": "markdown",
      "metadata": {
        "id": "SOM_H6UVDo-a"
      },
      "source": [
        "<h2 align='center' style='color:purple'>Finding best model and hyper parameter tunning using GridSearchCV and RandomisedSearchCV</h2>"
      ]
    },
    {
      "cell_type": "markdown",
      "metadata": {
        "id": "7Tg_M_q1Do-s"
      },
      "source": [
        "**For iris flower dataset in sklearn library, we are going to find out best model and best hyper parameters using GridSearchCV**"
      ]
    },
    {
      "cell_type": "markdown",
      "metadata": {
        "id": "pq9Zmnx4Do-t"
      },
      "source": [
        "**Step1: Load iris flower dataset**"
      ]
    },
    {
      "cell_type": "code",
      "execution_count": null,
      "metadata": {
        "id": "N6u9vgtXDo-t"
      },
      "outputs": [],
      "source": [
        "from sklearn import svm, datasets\n",
        "import numpy as np\n",
        "# Loading Iris dataset\n",
        "iris = datasets.load_iris()"
      ]
    },
    {
      "cell_type": "markdown",
      "source": [
        "**Step2: Converting data into Dataframe**"
      ],
      "metadata": {
        "id": "0QFPOB4piIIM"
      }
    },
    {
      "cell_type": "code",
      "execution_count": null,
      "metadata": {
        "scrolled": false,
        "id": "3EefhFt5Do-v"
      },
      "outputs": [],
      "source": [
        "import pandas as pd\n",
        "# adding feature names to coloumn\n",
        "df = pd.DataFrame(iris.data,columns=iris.feature_names)\n",
        "# adding target coloumn name\n",
        "df['flower'] = iris.target\n",
        "# mapping class to each flower name\n",
        "df['flower'] = df['flower'].apply(lambda x: iris.target_names[x])\n",
        "df[47:150]"
      ]
    },
    {
      "cell_type": "markdown",
      "metadata": {
        "id": "S-xdCqZgDo-w"
      },
      "source": [
        "<h3 style='color:blue'>Approach 1: Use train_test_split and manually tune parameters by trial and error</h3>"
      ]
    },
    {
      "cell_type": "markdown",
      "source": [
        "**Step3: Train test split**"
      ],
      "metadata": {
        "id": "0cBtAykNjUQK"
      }
    },
    {
      "cell_type": "code",
      "execution_count": null,
      "metadata": {
        "id": "QI0GjrIsDo-x"
      },
      "outputs": [],
      "source": [
        "from sklearn.model_selection import train_test_split\n",
        "from sklearn.model_selection import cross_val_score\n",
        "# (test_size=0.3) --> 30% testing data and 70% is training data\n",
        "X_train, X_test, y_train, y_test = train_test_split(iris.data, iris.target, test_size=0.3)"
      ]
    },
    {
      "cell_type": "markdown",
      "source": [
        "**Step4: Training the SVM model**"
      ],
      "metadata": {
        "id": "mixSzDBWjgxs"
      }
    },
    {
      "cell_type": "code",
      "execution_count": null,
      "metadata": {
        "id": "fAlsBepHDo-y"
      },
      "outputs": [],
      "source": [
        "# creating an instance of SVM classifier\n",
        "model = svm.SVC(kernel='rbf',C=30,gamma='auto')\n",
        "# training the model\n",
        "model.fit(X_train,y_train)\n",
        "# testing the model\n",
        "model.score(X_test, y_test)"
      ]
    },
    {
      "cell_type": "markdown",
      "metadata": {
        "id": "hCevlb3zDo-z"
      },
      "source": [
        "<h3 style='color:blue'>Approach 2: Use K Fold Cross validation</h3>"
      ]
    },
    {
      "cell_type": "markdown",
      "metadata": {
        "id": "bqlbl73ZDo-0"
      },
      "source": [
        "**Step5.1: Manually try supplying models and parameters to cross_val_score function with 5 fold cross validation**"
      ]
    },
    {
      "cell_type": "code",
      "execution_count": null,
      "metadata": {
        "id": "Xkdq9vQhDo-0"
      },
      "outputs": [],
      "source": [
        "from numpy import mean\n",
        "# k fold cross validation with cv=5\n",
        "scores=cross_val_score(svm.SVC(kernel='linear',C=10,gamma='auto'),iris.data, iris.target, cv=5)\n",
        "# printing scores of each fold\n",
        "print(scores)\n",
        "# average score\n",
        "print(mean(scores))"
      ]
    },
    {
      "cell_type": "markdown",
      "source": [
        "**Step5.2: trying with different parameters**"
      ],
      "metadata": {
        "id": "qsbZZJx_lP4r"
      }
    },
    {
      "cell_type": "code",
      "execution_count": null,
      "metadata": {
        "id": "GcEuOahnDo-1"
      },
      "outputs": [],
      "source": [
        "scores=cross_val_score(svm.SVC(kernel='rbf',C=10,gamma='auto'),iris.data, iris.target, cv=5)\n",
        "print(scores)\n",
        "print(mean(scores))"
      ]
    },
    {
      "cell_type": "markdown",
      "source": [
        "**Step5.3: Again trying with different parameters**"
      ],
      "metadata": {
        "id": "nX5-SNt1lxc5"
      }
    },
    {
      "cell_type": "code",
      "execution_count": null,
      "metadata": {
        "id": "T8sUQ08fDo-3"
      },
      "outputs": [],
      "source": [
        "scores=cross_val_score(svm.SVC(kernel='rbf',C=20,gamma='auto'),iris.data, iris.target, cv=5)\n",
        "print(scores)\n",
        "print(mean(scores))"
      ]
    },
    {
      "cell_type": "markdown",
      "metadata": {
        "id": "p-BmqY1zDo-4"
      },
      "source": [
        "**Step6: Above approach is tiresome and very manual. We can use for loop as an alternative**"
      ]
    },
    {
      "cell_type": "code",
      "execution_count": null,
      "metadata": {
        "scrolled": false,
        "id": "3w7jYe7eDo-5"
      },
      "outputs": [],
      "source": [
        "# trying different values for kernel value\n",
        "kernels = ['rbf', 'linear']\n",
        "C = [1,10,20]\n",
        "avg_scores = {}\n",
        "# nested loops for iterating on different values of kernel and C\n",
        "for kval in kernels:\n",
        "    for cval in C:\n",
        "        cv_scores = cross_val_score(svm.SVC(kernel=kval,C=cval,gamma='auto'),iris.data, iris.target, cv=5)\n",
        "        avg_scores[kval + '_' + str(cval)] = np.average(cv_scores)\n",
        "\n",
        "avg_scores"
      ]
    },
    {
      "cell_type": "markdown",
      "metadata": {
        "id": "067asjQgDo-6"
      },
      "source": [
        "<h3 style='color:blue'>Approach 3: Use GridSearchCV</h3>"
      ]
    },
    {
      "cell_type": "markdown",
      "metadata": {
        "id": "hwExFta1Do-7"
      },
      "source": [
        "**Step7: GridSearchCV does exactly same thing as for loop above but in a single line of code**"
      ]
    },
    {
      "cell_type": "code",
      "execution_count": null,
      "metadata": {
        "id": "G3hVHeZZDo-8"
      },
      "outputs": [],
      "source": [
        "from sklearn.model_selection import GridSearchCV\n",
        "clf = GridSearchCV(svm.SVC(gamma='auto'), {\n",
        "    'C': [1,10,20],\n",
        "    'kernel': ['rbf','linear']\n",
        "}, cv=5, return_train_score=False)\n",
        "clf.fit(iris.data, iris.target)\n",
        "clf.cv_results_"
      ]
    },
    {
      "cell_type": "markdown",
      "source": [
        "**Step7.1: Converting results into dataframe**"
      ],
      "metadata": {
        "id": "ajFQosoEobss"
      }
    },
    {
      "cell_type": "code",
      "execution_count": null,
      "metadata": {
        "id": "CE0z2YlzDo-9"
      },
      "outputs": [],
      "source": [
        "df = pd.DataFrame(clf.cv_results_)\n",
        "df"
      ]
    },
    {
      "cell_type": "markdown",
      "source": [
        "**Step7.2: Viewing only the required coloumns**"
      ],
      "metadata": {
        "id": "PDqO-w81oskt"
      }
    },
    {
      "cell_type": "code",
      "execution_count": null,
      "metadata": {
        "id": "PKAn5JUcDo--"
      },
      "outputs": [],
      "source": [
        "df[['param_C','param_kernel','mean_test_score']]"
      ]
    },
    {
      "cell_type": "markdown",
      "source": [
        "**Step7.3: Viewing best parameters**"
      ],
      "metadata": {
        "id": "haTrWi7Ao9R-"
      }
    },
    {
      "cell_type": "code",
      "execution_count": null,
      "metadata": {
        "id": "u1qCaE4DDo_A"
      },
      "outputs": [],
      "source": [
        "clf.best_params_"
      ]
    },
    {
      "cell_type": "markdown",
      "source": [
        "**Step7.4: Viewing best score**"
      ],
      "metadata": {
        "id": "2RZvfMCTpGxF"
      }
    },
    {
      "cell_type": "code",
      "execution_count": null,
      "metadata": {
        "id": "Vh9CRt4tDo_B"
      },
      "outputs": [],
      "source": [
        "clf.best_score_"
      ]
    },
    {
      "cell_type": "markdown",
      "metadata": {
        "id": "R8hR2tjCDo_D"
      },
      "source": [
        "**Step8: Use RandomizedSearchCV to reduce number of iterations and with random combination of parameters. This is useful when you have too many parameters to try and your training time is longer. It helps reduce the cost of computation**"
      ]
    },
    {
      "cell_type": "code",
      "execution_count": null,
      "metadata": {
        "id": "Jt8Un2pdDo_E"
      },
      "outputs": [],
      "source": [
        "from sklearn.model_selection import RandomizedSearchCV\n",
        "rs = RandomizedSearchCV(svm.SVC(gamma='auto'), {\n",
        "        'C': [1,10,20],\n",
        "        'kernel': ['rbf','linear']\n",
        "    },\n",
        "    cv=5,\n",
        "    return_train_score=False,\n",
        "    n_iter=2\n",
        ")\n",
        "rs.fit(iris.data, iris.target)\n",
        "pd.DataFrame(rs.cv_results_)[['param_C','param_kernel','mean_test_score']]"
      ]
    },
    {
      "cell_type": "markdown",
      "metadata": {
        "id": "Yrt1P60iDo_E"
      },
      "source": [
        "**Step9: How about different models with different hyperparameters?**"
      ]
    },
    {
      "cell_type": "code",
      "execution_count": null,
      "metadata": {
        "id": "wSXjRc3QDo_E"
      },
      "outputs": [],
      "source": [
        "from sklearn import svm\n",
        "from sklearn.ensemble import RandomForestClassifier\n",
        "from sklearn.linear_model import LogisticRegression\n",
        "# Iitialising model_params dictionary.Each model is defined as a key-value pair in the dictionary.\n",
        "# The key represents the models name, and the value is another dictionary that contains the model\n",
        "# object and its corresponding hyperparameter options.\n",
        "model_params = {\n",
        "    'svm': {\n",
        "        'model': svm.SVC(gamma='auto'),\n",
        "        'params' : {\n",
        "            'C': [1,10,20],\n",
        "            'kernel': ['rbf','linear']\n",
        "        }\n",
        "    },\n",
        "    'random_forest': {\n",
        "        'model': RandomForestClassifier(),\n",
        "        'params' : {\n",
        "            'n_estimators': [1,5,10]\n",
        "        }\n",
        "    },\n",
        "    'logistic_regression' : {\n",
        "        'model': LogisticRegression(solver='liblinear',multi_class='auto'),\n",
        "        'params': {\n",
        "            'C': [1,5,10]\n",
        "        }\n",
        "    }\n",
        "}\n"
      ]
    },
    {
      "cell_type": "markdown",
      "source": [
        "**Step9.1: Applying loop on the dictionary**"
      ],
      "metadata": {
        "id": "hYJT1aKzpyvY"
      }
    },
    {
      "cell_type": "code",
      "execution_count": null,
      "metadata": {
        "scrolled": false,
        "id": "iq62U-B3Do_F"
      },
      "outputs": [],
      "source": [
        "scores = []\n",
        "# model_name is the key and mp is vlaue of the above dictionary\n",
        "# Example svm is model name and mp is the dictionary value of svm\n",
        "for model_name, mp in model_params.items():\n",
        "    clf =  GridSearchCV(mp['model'], mp['params'], cv=5, return_train_score=False)\n",
        "    clf.fit(iris.data, iris.target)\n",
        "    scores.append({\n",
        "        'model': model_name,\n",
        "        'best_score': clf.best_score_,\n",
        "        'best_params': clf.best_params_\n",
        "    })\n",
        "\n",
        "df = pd.DataFrame(scores,columns=['model','best_score','best_params'])\n",
        "df"
      ]
    },
    {
      "cell_type": "markdown",
      "metadata": {
        "id": "Jh1jrFVmDo_H"
      },
      "source": [
        "**Based on above, I can conclude that SVM with C=1 and kernel='rbf' is the best model for solving my problem of iris flower classification**"
      ]
    }
  ],
  "metadata": {
    "kernelspec": {
      "display_name": "Python 3 (ipykernel)",
      "language": "python",
      "name": "python3"
    },
    "language_info": {
      "codemirror_mode": {
        "name": "ipython",
        "version": 3
      },
      "file_extension": ".py",
      "mimetype": "text/x-python",
      "name": "python",
      "nbconvert_exporter": "python",
      "pygments_lexer": "ipython3",
      "version": "3.10.11"
    },
    "colab": {
      "provenance": [],
      "include_colab_link": true
    }
  },
  "nbformat": 4,
  "nbformat_minor": 0
}